{
 "cells": [
  {
   "cell_type": "code",
   "execution_count": 22,
   "metadata": {
    "ExecuteTime": {
     "end_time": "2020-10-15T16:12:53.902937Z",
     "start_time": "2020-10-15T16:12:40.733357Z"
    }
   },
   "outputs": [],
   "source": [
    "import pandas as pd\n",
    "import os\n",
    "import prepare_data.mind as mind\n",
    "import tensorflow as tf"
   ]
  },
  {
   "cell_type": "code",
   "execution_count": 4,
   "metadata": {
    "ExecuteTime": {
     "end_time": "2020-10-15T15:41:04.350436Z",
     "start_time": "2020-10-15T15:41:04.344430Z"
    }
   },
   "outputs": [
    {
     "name": "stdout",
     "output_type": "stream",
     "text": [
      "./data\\mind-demo\n"
     ]
    }
   ],
   "source": [
    "epochs = 5\n",
    "seed = 40\n",
    "MIND_type = 'demo'\n",
    "# tmpdir = TemporaryDirectory()\n",
    "# data_path = tmpdir.name\n",
    "data_path = os.path.join('./data', 'mind-{}'.format(MIND_type))\n",
    "print(data_path)"
   ]
  },
  {
   "cell_type": "code",
   "execution_count": 5,
   "metadata": {
    "ExecuteTime": {
     "end_time": "2020-10-15T15:41:15.028744Z",
     "start_time": "2020-10-15T15:41:15.024740Z"
    }
   },
   "outputs": [],
   "source": [
    "train_news_file = os.path.join(data_path, 'train', r'news.tsv')\n",
    "train_behaviors_file = os.path.join(data_path, 'train', r'behaviors.tsv')\n",
    "valid_news_file = os.path.join(data_path, 'valid', r'news.tsv')\n",
    "valid_behaviors_file = os.path.join(data_path, 'valid', r'behaviors.tsv')\n",
    "wordEmb_file = os.path.join(data_path, \"utils\", \"embedding.npy\")\n",
    "userDict_file = os.path.join(data_path, \"utils\", \"uid2index.pkl\")\n",
    "wordDict_file = os.path.join(data_path, \"utils\", \"word_dict.pkl\")\n",
    "yaml_file = os.path.join(data_path, \"utils\", r'lstur.yaml')"
   ]
  },
  {
   "cell_type": "code",
   "execution_count": 12,
   "metadata": {
    "ExecuteTime": {
     "end_time": "2020-10-15T15:59:16.640981Z",
     "start_time": "2020-10-15T15:59:16.357724Z"
    }
   },
   "outputs": [
    {
     "data": {
      "text/html": [
       "<div>\n",
       "<style scoped>\n",
       "    .dataframe tbody tr th:only-of-type {\n",
       "        vertical-align: middle;\n",
       "    }\n",
       "\n",
       "    .dataframe tbody tr th {\n",
       "        vertical-align: top;\n",
       "    }\n",
       "\n",
       "    .dataframe thead th {\n",
       "        text-align: right;\n",
       "    }\n",
       "</style>\n",
       "<table border=\"1\" class=\"dataframe\">\n",
       "  <thead>\n",
       "    <tr style=\"text-align: right;\">\n",
       "      <th></th>\n",
       "      <th>news_id</th>\n",
       "      <th>category</th>\n",
       "      <th>subcategory</th>\n",
       "      <th>title</th>\n",
       "      <th>abstract</th>\n",
       "      <th>url</th>\n",
       "      <th>title_entities</th>\n",
       "      <th>abstract_entities</th>\n",
       "    </tr>\n",
       "  </thead>\n",
       "  <tbody>\n",
       "    <tr>\n",
       "      <th>0</th>\n",
       "      <td>N3112</td>\n",
       "      <td>lifestyle</td>\n",
       "      <td>lifestyleroyals</td>\n",
       "      <td>The Brands Queen Elizabeth, Prince Charles, an...</td>\n",
       "      <td>Shop the notebooks, jackets, and more that the...</td>\n",
       "      <td>https://www.msn.com/en-us/lifestyle/lifestyler...</td>\n",
       "      <td>[{\"Label\": \"Prince Philip, Duke of Edinburgh\",...</td>\n",
       "      <td>[]</td>\n",
       "    </tr>\n",
       "    <tr>\n",
       "      <th>1</th>\n",
       "      <td>N10399</td>\n",
       "      <td>news</td>\n",
       "      <td>newsworld</td>\n",
       "      <td>The Cost of Trump's Aid Freeze in the Trenches...</td>\n",
       "      <td>Lt. Ivan Molchanets peeked over a parapet of s...</td>\n",
       "      <td>https://www.msn.com/en-us/news/world/the-cost-...</td>\n",
       "      <td>[]</td>\n",
       "      <td>[{\"Label\": \"Ukraine\", \"Type\": \"G\", \"WikidataId...</td>\n",
       "    </tr>\n",
       "    <tr>\n",
       "      <th>2</th>\n",
       "      <td>N12103</td>\n",
       "      <td>health</td>\n",
       "      <td>voices</td>\n",
       "      <td>I Was An NBA Wife. Here's How It Affected My M...</td>\n",
       "      <td>I felt like I was a fraud, and being an NBA wi...</td>\n",
       "      <td>https://www.msn.com/en-us/health/voices/i-was-...</td>\n",
       "      <td>[]</td>\n",
       "      <td>[{\"Label\": \"National Basketball Association\", ...</td>\n",
       "    </tr>\n",
       "    <tr>\n",
       "      <th>3</th>\n",
       "      <td>N20460</td>\n",
       "      <td>health</td>\n",
       "      <td>medical</td>\n",
       "      <td>How to Get Rid of Skin Tags, According to a De...</td>\n",
       "      <td>They seem harmless, but there's a very good re...</td>\n",
       "      <td>https://www.msn.com/en-us/health/medical/how-t...</td>\n",
       "      <td>[{\"Label\": \"Skin tag\", \"Type\": \"C\", \"WikidataI...</td>\n",
       "      <td>[{\"Label\": \"Skin tag\", \"Type\": \"C\", \"WikidataI...</td>\n",
       "    </tr>\n",
       "    <tr>\n",
       "      <th>4</th>\n",
       "      <td>N5409</td>\n",
       "      <td>weather</td>\n",
       "      <td>weathertopstories</td>\n",
       "      <td>It's been Orlando's hottest October ever so fa...</td>\n",
       "      <td>There won't be a chill down to your bones this...</td>\n",
       "      <td>https://www.msn.com/en-us/weather/weathertopst...</td>\n",
       "      <td>[{\"Label\": \"Orlando, Florida\", \"Type\": \"G\", \"W...</td>\n",
       "      <td>[{\"Label\": \"Orlando, Florida\", \"Type\": \"G\", \"W...</td>\n",
       "    </tr>\n",
       "  </tbody>\n",
       "</table>\n",
       "</div>"
      ],
      "text/plain": [
       "  news_id   category        subcategory  \\\n",
       "0   N3112  lifestyle    lifestyleroyals   \n",
       "1  N10399       news          newsworld   \n",
       "2  N12103     health             voices   \n",
       "3  N20460     health            medical   \n",
       "4   N5409    weather  weathertopstories   \n",
       "\n",
       "                                               title  \\\n",
       "0  The Brands Queen Elizabeth, Prince Charles, an...   \n",
       "1  The Cost of Trump's Aid Freeze in the Trenches...   \n",
       "2  I Was An NBA Wife. Here's How It Affected My M...   \n",
       "3  How to Get Rid of Skin Tags, According to a De...   \n",
       "4  It's been Orlando's hottest October ever so fa...   \n",
       "\n",
       "                                            abstract  \\\n",
       "0  Shop the notebooks, jackets, and more that the...   \n",
       "1  Lt. Ivan Molchanets peeked over a parapet of s...   \n",
       "2  I felt like I was a fraud, and being an NBA wi...   \n",
       "3  They seem harmless, but there's a very good re...   \n",
       "4  There won't be a chill down to your bones this...   \n",
       "\n",
       "                                                 url  \\\n",
       "0  https://www.msn.com/en-us/lifestyle/lifestyler...   \n",
       "1  https://www.msn.com/en-us/news/world/the-cost-...   \n",
       "2  https://www.msn.com/en-us/health/voices/i-was-...   \n",
       "3  https://www.msn.com/en-us/health/medical/how-t...   \n",
       "4  https://www.msn.com/en-us/weather/weathertopst...   \n",
       "\n",
       "                                      title_entities  \\\n",
       "0  [{\"Label\": \"Prince Philip, Duke of Edinburgh\",...   \n",
       "1                                                 []   \n",
       "2                                                 []   \n",
       "3  [{\"Label\": \"Skin tag\", \"Type\": \"C\", \"WikidataI...   \n",
       "4  [{\"Label\": \"Orlando, Florida\", \"Type\": \"G\", \"W...   \n",
       "\n",
       "                                   abstract_entities  \n",
       "0                                                 []  \n",
       "1  [{\"Label\": \"Ukraine\", \"Type\": \"G\", \"WikidataId...  \n",
       "2  [{\"Label\": \"National Basketball Association\", ...  \n",
       "3  [{\"Label\": \"Skin tag\", \"Type\": \"C\", \"WikidataI...  \n",
       "4  [{\"Label\": \"Orlando, Florida\", \"Type\": \"G\", \"W...  "
      ]
     },
     "execution_count": 12,
     "metadata": {},
     "output_type": "execute_result"
    }
   ],
   "source": [
    "new_headers = ['news_id',\n",
    "               'category',\n",
    "               'subcategory',\n",
    "               'title',\n",
    "               'abstract',\n",
    "               'url',\n",
    "               'title_entities',\n",
    "               'abstract_entities']\n",
    "news_data = pd.read_csv(train_news_file, sep='\\t', names=new_headers)\n",
    "news_data.head(5)"
   ]
  },
  {
   "cell_type": "code",
   "execution_count": 17,
   "metadata": {
    "ExecuteTime": {
     "end_time": "2020-10-15T16:05:28.589469Z",
     "start_time": "2020-10-15T16:05:28.433328Z"
    }
   },
   "outputs": [],
   "source": [
    "behaviors_header = ['impression_id',\n",
    "                    'user_id',\n",
    "                    'time',\n",
    "                    'history',\n",
    "                    'impressions']\n",
    "\n",
    "behaviors_data = pd.read_csv(train_behaviors_file, sep='\\t', names=behaviors_header)"
   ]
  },
  {
   "cell_type": "code",
   "execution_count": 18,
   "metadata": {
    "ExecuteTime": {
     "end_time": "2020-10-15T16:05:29.125957Z",
     "start_time": "2020-10-15T16:05:29.114949Z"
    }
   },
   "outputs": [
    {
     "data": {
      "text/html": [
       "<div>\n",
       "<style scoped>\n",
       "    .dataframe tbody tr th:only-of-type {\n",
       "        vertical-align: middle;\n",
       "    }\n",
       "\n",
       "    .dataframe tbody tr th {\n",
       "        vertical-align: top;\n",
       "    }\n",
       "\n",
       "    .dataframe thead th {\n",
       "        text-align: right;\n",
       "    }\n",
       "</style>\n",
       "<table border=\"1\" class=\"dataframe\">\n",
       "  <thead>\n",
       "    <tr style=\"text-align: right;\">\n",
       "      <th></th>\n",
       "      <th>impression_id</th>\n",
       "      <th>user_id</th>\n",
       "      <th>time</th>\n",
       "      <th>history</th>\n",
       "      <th>impressions</th>\n",
       "    </tr>\n",
       "  </thead>\n",
       "  <tbody>\n",
       "    <tr>\n",
       "      <th>0</th>\n",
       "      <td>1</td>\n",
       "      <td>U82271</td>\n",
       "      <td>11/11/2019 3:28:58 PM</td>\n",
       "      <td>N3130 N11621 N12917 N4574 N12140 N9748</td>\n",
       "      <td>N13390-0 N7180-0 N20785-0 N6937-0 N15776-0 N25...</td>\n",
       "    </tr>\n",
       "    <tr>\n",
       "      <th>1</th>\n",
       "      <td>2</td>\n",
       "      <td>U84185</td>\n",
       "      <td>11/12/2019 10:36:47 AM</td>\n",
       "      <td>N27209 N11723 N4617 N12320 N11333 N24461 N2211...</td>\n",
       "      <td>N13089-0 N18101-0 N1248-0 N26273-0 N12770-1 N1...</td>\n",
       "    </tr>\n",
       "    <tr>\n",
       "      <th>2</th>\n",
       "      <td>3</td>\n",
       "      <td>U11552</td>\n",
       "      <td>11/11/2019 1:03:52 PM</td>\n",
       "      <td>N2139</td>\n",
       "      <td>N18390-0 N10537-0 N23967-1</td>\n",
       "    </tr>\n",
       "    <tr>\n",
       "      <th>3</th>\n",
       "      <td>4</td>\n",
       "      <td>U68381</td>\n",
       "      <td>11/11/2019 6:44:05 AM</td>\n",
       "      <td>N27420 N11621 N25416 N25457 N5124 N11751 N1175...</td>\n",
       "      <td>N15660-0 N18609-0 N2831-0 N5677-0 N19010-0 N15...</td>\n",
       "    </tr>\n",
       "    <tr>\n",
       "      <th>4</th>\n",
       "      <td>5</td>\n",
       "      <td>U52303</td>\n",
       "      <td>11/12/2019 3:11:52 AM</td>\n",
       "      <td>N1332 N12667</td>\n",
       "      <td>N15645-0 N7911-1</td>\n",
       "    </tr>\n",
       "    <tr>\n",
       "      <th>...</th>\n",
       "      <td>...</td>\n",
       "      <td>...</td>\n",
       "      <td>...</td>\n",
       "      <td>...</td>\n",
       "      <td>...</td>\n",
       "    </tr>\n",
       "    <tr>\n",
       "      <th>22029</th>\n",
       "      <td>22030</td>\n",
       "      <td>U69508</td>\n",
       "      <td>11/12/2019 2:50:55 AM</td>\n",
       "      <td>N19377 N5490 N19086 N16129 N2746 N21659 N17510...</td>\n",
       "      <td>N16297-0 N15645-0 N20630-0 N10602-0 N27294-0 N...</td>\n",
       "    </tr>\n",
       "    <tr>\n",
       "      <th>22030</th>\n",
       "      <td>22031</td>\n",
       "      <td>U79085</td>\n",
       "      <td>11/14/2019 9:52:15 AM</td>\n",
       "      <td>N27591 N21778 N17297 N9764 N13579 N22605 N2585...</td>\n",
       "      <td>N27355-0 N9809-0 N20882-0 N8787-0 N25926-0 N38...</td>\n",
       "    </tr>\n",
       "    <tr>\n",
       "      <th>22031</th>\n",
       "      <td>22032</td>\n",
       "      <td>U46989</td>\n",
       "      <td>11/14/2019 8:36:23 AM</td>\n",
       "      <td>N4202 N23413 N3617 N19239 N11061 N22055 N1839 ...</td>\n",
       "      <td>N13316-0 N23592-0 N10240-0 N1994-0 N26998-0 N1...</td>\n",
       "    </tr>\n",
       "    <tr>\n",
       "      <th>22032</th>\n",
       "      <td>22033</td>\n",
       "      <td>U49050</td>\n",
       "      <td>11/14/2019 11:58:12 AM</td>\n",
       "      <td>N17580 N12014 N3076 N10624 N27610 N6385 N4617 ...</td>\n",
       "      <td>N23982-0 N17424-0 N17157-0 N4324-0 N22216-0 N1...</td>\n",
       "    </tr>\n",
       "    <tr>\n",
       "      <th>22033</th>\n",
       "      <td>22034</td>\n",
       "      <td>U6774</td>\n",
       "      <td>11/9/2019 7:18:24 AM</td>\n",
       "      <td>N3076 N4202 N16681 N12933 N283 N26459 N25436 N...</td>\n",
       "      <td>N5109-0 N7452-0 N13064-0 N26428-0 N22785-0 N23...</td>\n",
       "    </tr>\n",
       "  </tbody>\n",
       "</table>\n",
       "<p>22034 rows × 5 columns</p>\n",
       "</div>"
      ],
      "text/plain": [
       "       impression_id user_id                    time  \\\n",
       "0                  1  U82271   11/11/2019 3:28:58 PM   \n",
       "1                  2  U84185  11/12/2019 10:36:47 AM   \n",
       "2                  3  U11552   11/11/2019 1:03:52 PM   \n",
       "3                  4  U68381   11/11/2019 6:44:05 AM   \n",
       "4                  5  U52303   11/12/2019 3:11:52 AM   \n",
       "...              ...     ...                     ...   \n",
       "22029          22030  U69508   11/12/2019 2:50:55 AM   \n",
       "22030          22031  U79085   11/14/2019 9:52:15 AM   \n",
       "22031          22032  U46989   11/14/2019 8:36:23 AM   \n",
       "22032          22033  U49050  11/14/2019 11:58:12 AM   \n",
       "22033          22034   U6774    11/9/2019 7:18:24 AM   \n",
       "\n",
       "                                                 history  \\\n",
       "0                 N3130 N11621 N12917 N4574 N12140 N9748   \n",
       "1      N27209 N11723 N4617 N12320 N11333 N24461 N2211...   \n",
       "2                                                  N2139   \n",
       "3      N27420 N11621 N25416 N25457 N5124 N11751 N1175...   \n",
       "4                                           N1332 N12667   \n",
       "...                                                  ...   \n",
       "22029  N19377 N5490 N19086 N16129 N2746 N21659 N17510...   \n",
       "22030  N27591 N21778 N17297 N9764 N13579 N22605 N2585...   \n",
       "22031  N4202 N23413 N3617 N19239 N11061 N22055 N1839 ...   \n",
       "22032  N17580 N12014 N3076 N10624 N27610 N6385 N4617 ...   \n",
       "22033  N3076 N4202 N16681 N12933 N283 N26459 N25436 N...   \n",
       "\n",
       "                                             impressions  \n",
       "0      N13390-0 N7180-0 N20785-0 N6937-0 N15776-0 N25...  \n",
       "1      N13089-0 N18101-0 N1248-0 N26273-0 N12770-1 N1...  \n",
       "2                             N18390-0 N10537-0 N23967-1  \n",
       "3      N15660-0 N18609-0 N2831-0 N5677-0 N19010-0 N15...  \n",
       "4                                       N15645-0 N7911-1  \n",
       "...                                                  ...  \n",
       "22029  N16297-0 N15645-0 N20630-0 N10602-0 N27294-0 N...  \n",
       "22030  N27355-0 N9809-0 N20882-0 N8787-0 N25926-0 N38...  \n",
       "22031  N13316-0 N23592-0 N10240-0 N1994-0 N26998-0 N1...  \n",
       "22032  N23982-0 N17424-0 N17157-0 N4324-0 N22216-0 N1...  \n",
       "22033  N5109-0 N7452-0 N13064-0 N26428-0 N22785-0 N23...  \n",
       "\n",
       "[22034 rows x 5 columns]"
      ]
     },
     "execution_count": 18,
     "metadata": {},
     "output_type": "execute_result"
    }
   ],
   "source": [
    "behaviors_data"
   ]
  },
  {
   "cell_type": "code",
   "execution_count": 32,
   "metadata": {
    "ExecuteTime": {
     "end_time": "2020-10-15T16:21:40.481797Z",
     "start_time": "2020-10-15T16:21:40.474791Z"
    }
   },
   "outputs": [
    {
     "data": {
      "text/plain": [
       "['N18403-0',\n",
       " 'N7910-0',\n",
       " 'N13997-0',\n",
       " 'N25012-0',\n",
       " 'N31-0',\n",
       " 'N4352-0',\n",
       " 'N25809-0',\n",
       " 'N1894-0',\n",
       " 'N14352-0',\n",
       " 'N17414-0',\n",
       " 'N18110-0',\n",
       " 'N843-0',\n",
       " 'N23139-0',\n",
       " 'N5780-0',\n",
       " 'N25787-0',\n",
       " 'N11875-0',\n",
       " 'N10178-0',\n",
       " 'N20678-0',\n",
       " 'N24955-0',\n",
       " 'N22990-1',\n",
       " 'N7090-0',\n",
       " 'N18634-0',\n",
       " 'N16945-0',\n",
       " 'N7184-0',\n",
       " 'N10552-0',\n",
       " 'N3403-0',\n",
       " 'N20753-0',\n",
       " 'N5813-0',\n",
       " 'N26154-1',\n",
       " 'N26428-0',\n",
       " 'N7065-0',\n",
       " 'N22817-0',\n",
       " 'N10328-0',\n",
       " 'N5382-0',\n",
       " 'N6819-0',\n",
       " 'N6911-0',\n",
       " 'N12340-0',\n",
       " 'N5337-0',\n",
       " 'N14493-0',\n",
       " 'N19215-0',\n",
       " 'N15417-0',\n",
       " 'N24172-0',\n",
       " 'N10821-0',\n",
       " 'N14767-0',\n",
       " 'N23650-0',\n",
       " 'N16914-0',\n",
       " 'N15947-0',\n",
       " 'N6596-0',\n",
       " 'N13985-0',\n",
       " 'N25810-0',\n",
       " 'N1549-0',\n",
       " 'N1502-0',\n",
       " 'N13203-0',\n",
       " 'N12577-0',\n",
       " 'N8256-0',\n",
       " 'N27910-0',\n",
       " 'N20820-0',\n",
       " 'N4753-0',\n",
       " 'N22139-0',\n",
       " 'N13576-0',\n",
       " 'N10550-0',\n",
       " 'N469-0',\n",
       " 'N21830-0',\n",
       " 'N3628-0',\n",
       " 'N5347-0',\n",
       " 'N4894-0',\n",
       " 'N27255-0',\n",
       " 'N24610-0',\n",
       " 'N13594-0',\n",
       " 'N15037-0',\n",
       " 'N27326-0',\n",
       " 'N20587-0',\n",
       " 'N7250-1',\n",
       " 'N28236-0',\n",
       " 'N28544-0']"
      ]
     },
     "execution_count": 32,
     "metadata": {},
     "output_type": "execute_result"
    }
   ],
   "source": [
    "behaviors_data[behaviors_data.user_id == 'U79085']['impressions'].values.tolist()[1].split(' ')"
   ]
  },
  {
   "cell_type": "code",
   "execution_count": 31,
   "metadata": {
    "ExecuteTime": {
     "end_time": "2020-10-15T16:21:31.227792Z",
     "start_time": "2020-10-15T16:21:31.220784Z"
    }
   },
   "outputs": [
    {
     "data": {
      "text/plain": [
       "['N3130', 'N11621', 'N12917', 'N4574', 'N12140', 'N9748']"
      ]
     },
     "execution_count": 31,
     "metadata": {},
     "output_type": "execute_result"
    }
   ],
   "source": [
    "behaviors_data[behaviors_data.user_id == 'U82271']['history'].values.tolist()[0].split(' ')"
   ]
  },
  {
   "cell_type": "code",
   "execution_count": null,
   "metadata": {},
   "outputs": [],
   "source": []
  }
 ],
 "metadata": {
  "kernelspec": {
   "display_name": "Python 3",
   "language": "python",
   "name": "python3"
  },
  "language_info": {
   "codemirror_mode": {
    "name": "ipython",
    "version": 3
   },
   "file_extension": ".py",
   "mimetype": "text/x-python",
   "name": "python",
   "nbconvert_exporter": "python",
   "pygments_lexer": "ipython3",
   "version": "3.7.3"
  }
 },
 "nbformat": 4,
 "nbformat_minor": 4
}
